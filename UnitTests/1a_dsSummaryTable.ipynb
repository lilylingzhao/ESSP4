{
 "cells": [
  {
   "cell_type": "markdown",
   "id": "4862590a-c382-4016-85a4-f1886fc59da6",
   "metadata": {},
   "source": [
    "# Check Data Set Summary Table"
   ]
  },
  {
   "cell_type": "code",
   "execution_count": 1,
   "id": "3fd13cf1-dfa9-4dc5-91b7-7bb669d3e9c7",
   "metadata": {},
   "outputs": [],
   "source": [
    "import os\n",
    "from glob import glob\n",
    "import numpy as np\n",
    "import matplotlib.pyplot as plt\n",
    "import pandas as pd\n",
    "\n",
    "import sys\n",
    "sys.path.append('../')\n",
    "from utils import *"
   ]
  },
  {
   "cell_type": "code",
   "execution_count": 2,
   "id": "ecfd5a89-cd1e-46f0-9e23-e1a82e3b8e2e",
   "metadata": {},
   "outputs": [],
   "source": [
    "files = glob(os.path.join(solar_dir,'DataSets','*.csv'))"
   ]
  },
  {
   "cell_type": "code",
   "execution_count": 3,
   "id": "f8e4df19-35fb-45a4-9be4-511e58742069",
   "metadata": {},
   "outputs": [
    {
     "data": {
      "text/html": [
       "<div>\n",
       "<style scoped>\n",
       "    .dataframe tbody tr th:only-of-type {\n",
       "        vertical-align: middle;\n",
       "    }\n",
       "\n",
       "    .dataframe tbody tr th {\n",
       "        vertical-align: top;\n",
       "    }\n",
       "\n",
       "    .dataframe thead th {\n",
       "        text-align: right;\n",
       "    }\n",
       "</style>\n",
       "<table border=\"1\" class=\"dataframe\">\n",
       "  <thead>\n",
       "    <tr style=\"text-align: right;\">\n",
       "      <th></th>\n",
       "      <th>File Name</th>\n",
       "      <th>Time [MJD]</th>\n",
       "      <th>RV [m/s]</th>\n",
       "      <th>RV Err. [m/s]</th>\n",
       "      <th>Exp. Time [s]</th>\n",
       "      <th>Airmass</th>\n",
       "      <th>BERV [km/s]</th>\n",
       "      <th>Instrument</th>\n",
       "      <th>Training</th>\n",
       "      <th>Standard File Name</th>\n",
       "      <th>time0</th>\n",
       "      <th>Time [eMJD]</th>\n",
       "    </tr>\n",
       "  </thead>\n",
       "  <tbody>\n",
       "    <tr>\n",
       "      <th>0</th>\n",
       "      <td>Sun_210525.5167.fits</td>\n",
       "      <td>59359.857124</td>\n",
       "      <td>2.083077</td>\n",
       "      <td>0.180021</td>\n",
       "      <td>169.487000</td>\n",
       "      <td>1.078890</td>\n",
       "      <td>-1.059077e+06</td>\n",
       "      <td>expres</td>\n",
       "      <td>True</td>\n",
       "      <td>DS0.001_spec_expres.fits</td>\n",
       "      <td>59331.548814</td>\n",
       "      <td>59332.405937</td>\n",
       "    </tr>\n",
       "    <tr>\n",
       "      <th>1</th>\n",
       "      <td>Sun_210525.5170.fits</td>\n",
       "      <td>59359.860913</td>\n",
       "      <td>1.778902</td>\n",
       "      <td>0.180288</td>\n",
       "      <td>168.069000</td>\n",
       "      <td>1.086344</td>\n",
       "      <td>-1.067009e+06</td>\n",
       "      <td>expres</td>\n",
       "      <td>True</td>\n",
       "      <td>DS0.002_spec_expres.fits</td>\n",
       "      <td>59331.548814</td>\n",
       "      <td>59332.409727</td>\n",
       "    </tr>\n",
       "    <tr>\n",
       "      <th>2</th>\n",
       "      <td>Sun_210525.5171.fits</td>\n",
       "      <td>59359.863285</td>\n",
       "      <td>1.621932</td>\n",
       "      <td>0.182267</td>\n",
       "      <td>167.537003</td>\n",
       "      <td>1.091306</td>\n",
       "      <td>-1.071936e+06</td>\n",
       "      <td>expres</td>\n",
       "      <td>False</td>\n",
       "      <td>DS0.001_v_spec_expres.fits</td>\n",
       "      <td>59331.548814</td>\n",
       "      <td>59332.412099</td>\n",
       "    </tr>\n",
       "    <tr>\n",
       "      <th>3</th>\n",
       "      <td>Sun_210525.5175.fits</td>\n",
       "      <td>59359.873706</td>\n",
       "      <td>0.903945</td>\n",
       "      <td>0.192353</td>\n",
       "      <td>167.863007</td>\n",
       "      <td>1.115956</td>\n",
       "      <td>-1.093220e+06</td>\n",
       "      <td>expres</td>\n",
       "      <td>True</td>\n",
       "      <td>DS0.003_spec_expres.fits</td>\n",
       "      <td>59331.548814</td>\n",
       "      <td>59332.422520</td>\n",
       "    </tr>\n",
       "    <tr>\n",
       "      <th>4</th>\n",
       "      <td>r.HARPN.2021-05-26T10-07-49.253_S2D_BLAZE_A.fits</td>\n",
       "      <td>59360.419000</td>\n",
       "      <td>0.824183</td>\n",
       "      <td>0.299046</td>\n",
       "      <td>300.000000</td>\n",
       "      <td>1.320948</td>\n",
       "      <td>-5.109644e-02</td>\n",
       "      <td>harpsn</td>\n",
       "      <td>True</td>\n",
       "      <td>DS0.004_spec_harpsn.fits</td>\n",
       "      <td>59331.548814</td>\n",
       "      <td>59332.967814</td>\n",
       "    </tr>\n",
       "    <tr>\n",
       "      <th>...</th>\n",
       "      <td>...</td>\n",
       "      <td>...</td>\n",
       "      <td>...</td>\n",
       "      <td>...</td>\n",
       "      <td>...</td>\n",
       "      <td>...</td>\n",
       "      <td>...</td>\n",
       "      <td>...</td>\n",
       "      <td>...</td>\n",
       "      <td>...</td>\n",
       "      <td>...</td>\n",
       "      <td>...</td>\n",
       "    </tr>\n",
       "    <tr>\n",
       "      <th>327</th>\n",
       "      <td>r.HARPN.2021-06-22T12-09-15.293_S2D_BLAZE_A.fits</td>\n",
       "      <td>59387.503000</td>\n",
       "      <td>-0.575935</td>\n",
       "      <td>0.284992</td>\n",
       "      <td>300.000000</td>\n",
       "      <td>1.034233</td>\n",
       "      <td>-6.364489e-03</td>\n",
       "      <td>harpsn</td>\n",
       "      <td>True</td>\n",
       "      <td>DS0.246_spec_harpsn.fits</td>\n",
       "      <td>59331.548814</td>\n",
       "      <td>59360.051814</td>\n",
       "    </tr>\n",
       "    <tr>\n",
       "      <th>328</th>\n",
       "      <td>r.HARPS.2021-06-22T17:34:20.363_S2D_BLAZE_A.fits</td>\n",
       "      <td>59387.727314</td>\n",
       "      <td>1.769563</td>\n",
       "      <td>0.287910</td>\n",
       "      <td>29.996500</td>\n",
       "      <td>1.701493</td>\n",
       "      <td>-1.843815e-01</td>\n",
       "      <td>harps</td>\n",
       "      <td>False</td>\n",
       "      <td>DS0.083_v_spec_harps.fits</td>\n",
       "      <td>59331.548814</td>\n",
       "      <td>59360.276127</td>\n",
       "    </tr>\n",
       "    <tr>\n",
       "      <th>329</th>\n",
       "      <td>r.HARPS.2021-06-22T17:35:21.376_S2D_BLAZE_A.fits</td>\n",
       "      <td>59387.728020</td>\n",
       "      <td>-0.540289</td>\n",
       "      <td>0.288271</td>\n",
       "      <td>29.996500</td>\n",
       "      <td>1.703713</td>\n",
       "      <td>-1.859872e-01</td>\n",
       "      <td>harps</td>\n",
       "      <td>True</td>\n",
       "      <td>DS0.247_spec_harps.fits</td>\n",
       "      <td>59331.548814</td>\n",
       "      <td>59360.276834</td>\n",
       "    </tr>\n",
       "    <tr>\n",
       "      <th>330</th>\n",
       "      <td>r.HARPS.2021-06-22T17:36:22.379_S2D_BLAZE_A.fits</td>\n",
       "      <td>59387.728726</td>\n",
       "      <td>-0.423258</td>\n",
       "      <td>0.288395</td>\n",
       "      <td>29.996500</td>\n",
       "      <td>1.705982</td>\n",
       "      <td>-1.875909e-01</td>\n",
       "      <td>harps</td>\n",
       "      <td>True</td>\n",
       "      <td>DS0.248_spec_harps.fits</td>\n",
       "      <td>59331.548814</td>\n",
       "      <td>59360.277540</td>\n",
       "    </tr>\n",
       "    <tr>\n",
       "      <th>331</th>\n",
       "      <td>r.HARPS.2021-06-22T17:37:23.372_S2D_BLAZE_A.fits</td>\n",
       "      <td>59387.729432</td>\n",
       "      <td>0.354894</td>\n",
       "      <td>0.288455</td>\n",
       "      <td>29.996500</td>\n",
       "      <td>1.708302</td>\n",
       "      <td>-1.891927e-01</td>\n",
       "      <td>harps</td>\n",
       "      <td>True</td>\n",
       "      <td>DS0.249_spec_harps.fits</td>\n",
       "      <td>59331.548814</td>\n",
       "      <td>59360.278246</td>\n",
       "    </tr>\n",
       "  </tbody>\n",
       "</table>\n",
       "<p>332 rows × 12 columns</p>\n",
       "</div>"
      ],
      "text/plain": [
       "                                            File Name    Time [MJD]  RV [m/s]  \\\n",
       "0                                Sun_210525.5167.fits  59359.857124  2.083077   \n",
       "1                                Sun_210525.5170.fits  59359.860913  1.778902   \n",
       "2                                Sun_210525.5171.fits  59359.863285  1.621932   \n",
       "3                                Sun_210525.5175.fits  59359.873706  0.903945   \n",
       "4    r.HARPN.2021-05-26T10-07-49.253_S2D_BLAZE_A.fits  59360.419000  0.824183   \n",
       "..                                                ...           ...       ...   \n",
       "327  r.HARPN.2021-06-22T12-09-15.293_S2D_BLAZE_A.fits  59387.503000 -0.575935   \n",
       "328  r.HARPS.2021-06-22T17:34:20.363_S2D_BLAZE_A.fits  59387.727314  1.769563   \n",
       "329  r.HARPS.2021-06-22T17:35:21.376_S2D_BLAZE_A.fits  59387.728020 -0.540289   \n",
       "330  r.HARPS.2021-06-22T17:36:22.379_S2D_BLAZE_A.fits  59387.728726 -0.423258   \n",
       "331  r.HARPS.2021-06-22T17:37:23.372_S2D_BLAZE_A.fits  59387.729432  0.354894   \n",
       "\n",
       "     RV Err. [m/s]  Exp. Time [s]   Airmass   BERV [km/s] Instrument  \\\n",
       "0         0.180021     169.487000  1.078890 -1.059077e+06     expres   \n",
       "1         0.180288     168.069000  1.086344 -1.067009e+06     expres   \n",
       "2         0.182267     167.537003  1.091306 -1.071936e+06     expres   \n",
       "3         0.192353     167.863007  1.115956 -1.093220e+06     expres   \n",
       "4         0.299046     300.000000  1.320948 -5.109644e-02     harpsn   \n",
       "..             ...            ...       ...           ...        ...   \n",
       "327       0.284992     300.000000  1.034233 -6.364489e-03     harpsn   \n",
       "328       0.287910      29.996500  1.701493 -1.843815e-01      harps   \n",
       "329       0.288271      29.996500  1.703713 -1.859872e-01      harps   \n",
       "330       0.288395      29.996500  1.705982 -1.875909e-01      harps   \n",
       "331       0.288455      29.996500  1.708302 -1.891927e-01      harps   \n",
       "\n",
       "     Training          Standard File Name         time0   Time [eMJD]  \n",
       "0        True    DS0.001_spec_expres.fits  59331.548814  59332.405937  \n",
       "1        True    DS0.002_spec_expres.fits  59331.548814  59332.409727  \n",
       "2       False  DS0.001_v_spec_expres.fits  59331.548814  59332.412099  \n",
       "3        True    DS0.003_spec_expres.fits  59331.548814  59332.422520  \n",
       "4        True    DS0.004_spec_harpsn.fits  59331.548814  59332.967814  \n",
       "..        ...                         ...           ...           ...  \n",
       "327      True    DS0.246_spec_harpsn.fits  59331.548814  59360.051814  \n",
       "328     False   DS0.083_v_spec_harps.fits  59331.548814  59360.276127  \n",
       "329      True     DS0.247_spec_harps.fits  59331.548814  59360.276834  \n",
       "330      True     DS0.248_spec_harps.fits  59331.548814  59360.277540  \n",
       "331      True     DS0.249_spec_harps.fits  59331.548814  59360.278246  \n",
       "\n",
       "[332 rows x 12 columns]"
      ]
     },
     "execution_count": 3,
     "metadata": {},
     "output_type": "execute_result"
    }
   ],
   "source": [
    "df = pd.read_csv(files[0])\n",
    "df"
   ]
  },
  {
   "cell_type": "code",
   "execution_count": 4,
   "id": "1d7cfcda-6144-47b0-bbe0-25325a822df9",
   "metadata": {},
   "outputs": [
    {
     "data": {
      "text/plain": [
       "Index(['DS0.001_spec_expres.fits', 'DS0.002_spec_expres.fits',\n",
       "       'DS0.001_v_spec_expres.fits', 'DS0.003_spec_expres.fits',\n",
       "       'DS0.004_spec_harpsn.fits', 'DS0.005_spec_harpsn.fits',\n",
       "       'DS0.002_v_spec_harpsn.fits', 'DS0.006_spec_harpsn.fits',\n",
       "       'DS0.007_spec_harps.fits', 'DS0.008_spec_harps.fits',\n",
       "       ...\n",
       "       'DS0.242_spec_neid.fits', 'DS0.243_spec_neid.fits',\n",
       "       'DS0.082_v_spec_harpsn.fits', 'DS0.244_spec_harpsn.fits',\n",
       "       'DS0.245_spec_harpsn.fits', 'DS0.246_spec_harpsn.fits',\n",
       "       'DS0.083_v_spec_harps.fits', 'DS0.247_spec_harps.fits',\n",
       "       'DS0.248_spec_harps.fits', 'DS0.249_spec_harps.fits'],\n",
       "      dtype='object', name='Standard File Name', length=332)"
      ]
     },
     "execution_count": 4,
     "metadata": {},
     "output_type": "execute_result"
    }
   ],
   "source": [
    "df.set_index('Standard File Name').index"
   ]
  },
  {
   "cell_type": "markdown",
   "id": "02378ff7-3303-43e2-9486-efd2b6637a86",
   "metadata": {},
   "source": [
    "## Number of Observations Per Instrument"
   ]
  },
  {
   "cell_type": "code",
   "execution_count": 5,
   "id": "41dcca17-cfd1-463f-94a5-8a810e41cd88",
   "metadata": {},
   "outputs": [
    {
     "name": "stdout",
     "output_type": "stream",
     "text": [
      "harpsn 68\n",
      "harps 68\n",
      "expres 96\n",
      "neid 100\n"
     ]
    }
   ],
   "source": [
    "for inst in instruments:\n",
    "    print(inst,np.sum(df['Instrument']==inst))"
   ]
  },
  {
   "cell_type": "markdown",
   "id": "c86d55cc-1584-4493-965e-eb0641b37492",
   "metadata": {},
   "source": [
    "## Time Offset"
   ]
  },
  {
   "cell_type": "code",
   "execution_count": 6,
   "id": "660c8391-e47f-4130-ad29-410ec977802d",
   "metadata": {},
   "outputs": [
    {
     "data": {
      "text/plain": [
       "array(['2021-04-28T09:44:32.964', '2021-04-28T09:50:00.401',\n",
       "       '2021-04-28T09:53:25.330'], dtype='<U23')"
      ]
     },
     "execution_count": 6,
     "metadata": {},
     "output_type": "execute_result"
    }
   ],
   "source": [
    "Time(df['Time [eMJD]'],format='mjd').isot[:3]"
   ]
  },
  {
   "cell_type": "code",
   "execution_count": 7,
   "id": "12b624fe-81e2-4def-a6f0-e021eafbfe59",
   "metadata": {},
   "outputs": [
    {
     "data": {
      "text/plain": [
       "True"
      ]
     },
     "execution_count": 7,
     "metadata": {},
     "output_type": "execute_result"
    }
   ],
   "source": [
    "np.isclose(df['Time [eMJD]']-df['time0']+mon_min,df['Time [MJD]']).all()"
   ]
  },
  {
   "cell_type": "markdown",
   "id": "fa210f20-8c6b-4dc1-9c04-cf07034b9ec1",
   "metadata": {},
   "source": [
    "## Check File Numbering"
   ]
  },
  {
   "cell_type": "code",
   "execution_count": 8,
   "id": "00924711-d324-4e4b-8c18-c0a57bb31670",
   "metadata": {},
   "outputs": [
    {
     "data": {
      "text/plain": [
       "True"
      ]
     },
     "execution_count": 8,
     "metadata": {},
     "output_type": "execute_result"
    }
   ],
   "source": [
    "(np.diff(np.array([file.split('_')[0].split('.')[1] for file in df['Standard File Name'][df['Training']]]).astype(int))==1).all()"
   ]
  },
  {
   "cell_type": "code",
   "execution_count": 9,
   "id": "6fbb0245-be43-4fb0-b67b-4a7f81c8423e",
   "metadata": {},
   "outputs": [
    {
     "data": {
      "text/plain": [
       "True"
      ]
     },
     "execution_count": 9,
     "metadata": {},
     "output_type": "execute_result"
    }
   ],
   "source": [
    "(np.diff(np.array([file.split('_')[0].split('.')[1] for file in df['Standard File Name'][~df['Training']]]).astype(int))==1).all()"
   ]
  },
  {
   "cell_type": "markdown",
   "id": "21c4b17e-68a6-433f-b32d-857ca867f5d3",
   "metadata": {},
   "source": [
    "## Check Training/Validation"
   ]
  },
  {
   "cell_type": "code",
   "execution_count": 10,
   "id": "7ea050bf-2f0e-445b-bc8b-fbe22f2d28c0",
   "metadata": {},
   "outputs": [
    {
     "name": "stdout",
     "output_type": "stream",
     "text": [
      "249 332\n"
     ]
    }
   ],
   "source": [
    "print(np.sum(df['Training']),len(df))"
   ]
  },
  {
   "cell_type": "code",
   "execution_count": 11,
   "id": "fc179a09-3606-4d40-8e1d-f7090111324a",
   "metadata": {},
   "outputs": [
    {
     "data": {
      "text/plain": [
       "[<matplotlib.lines.Line2D at 0x155508c2fdc0>]"
      ]
     },
     "execution_count": 11,
     "metadata": {},
     "output_type": "execute_result"
    },
    {
     "data": {
      "image/png": "[encoded data removed]",
      "text/plain": [
       "<Figure size 432x288 with 1 Axes>"
      ]
     },
     "metadata": {
      "needs_background": "light"
     },
     "output_type": "display_data"
    }
   ],
   "source": [
    "t = df['Training']\n",
    "plt.plot(df['Time [eMJD]'][t],df['RV [m/s]'][t],'.')\n",
    "plt.plot(df['Time [eMJD]'][~t],df['RV [m/s]'][~t],'.')"
   ]
  },
  {
   "cell_type": "code",
   "execution_count": null,
   "id": "306d740a-41bb-4ac9-8548-f3509aa934d7",
   "metadata": {},
   "outputs": [],
   "source": []
  }
 ],
 "metadata": {
  "kernelspec": {
   "display_name": "EXPRES",
   "language": "python",
   "name": "expres"
  },
  "language_info": {
   "codemirror_mode": {
    "name": "ipython",
    "version": 3
   },
   "file_extension": ".py",
   "mimetype": "text/x-python",
   "name": "python",
   "nbconvert_exporter": "python",
   "pygments_lexer": "ipython3",
   "version": "3.10.4"
  }
 },
 "nbformat": 4,
 "nbformat_minor": 5
}
