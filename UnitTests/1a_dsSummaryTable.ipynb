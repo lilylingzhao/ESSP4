{
 "cells": [
  {
   "cell_type": "markdown",
   "id": "4862590a-c382-4016-85a4-f1886fc59da6",
   "metadata": {},
   "source": [
    "# Check Data Set Summary Table"
   ]
  },
  {
   "cell_type": "code",
   "execution_count": 1,
   "id": "3fd13cf1-dfa9-4dc5-91b7-7bb669d3e9c7",
   "metadata": {},
   "outputs": [
    {
     "name": "stderr",
     "output_type": "stream",
     "text": [
      "/mnt/sw/nix/store/71ksmx7k6xy3v9ksfkv5mp5kxxp64pd6-python-3.10.13-view/lib/python3.10/site-packages/numpy/core/getlimits.py:549: UserWarning: The value of the smallest subnormal for <class 'numpy.float64'> type is zero.\n",
      "  setattr(self, word, getattr(machar, word).flat[0])\n",
      "/mnt/sw/nix/store/71ksmx7k6xy3v9ksfkv5mp5kxxp64pd6-python-3.10.13-view/lib/python3.10/site-packages/numpy/core/getlimits.py:89: UserWarning: The value of the smallest subnormal for <class 'numpy.float64'> type is zero.\n",
      "  return self._float_to_str(self.smallest_subnormal)\n",
      "/mnt/sw/nix/store/71ksmx7k6xy3v9ksfkv5mp5kxxp64pd6-python-3.10.13-view/lib/python3.10/site-packages/numpy/core/getlimits.py:549: UserWarning: The value of the smallest subnormal for <class 'numpy.float32'> type is zero.\n",
      "  setattr(self, word, getattr(machar, word).flat[0])\n",
      "/mnt/sw/nix/store/71ksmx7k6xy3v9ksfkv5mp5kxxp64pd6-python-3.10.13-view/lib/python3.10/site-packages/numpy/core/getlimits.py:89: UserWarning: The value of the smallest subnormal for <class 'numpy.float32'> type is zero.\n",
      "  return self._float_to_str(self.smallest_subnormal)\n"
     ]
    }
   ],
   "source": [
    "import os\n",
    "from glob import glob\n",
    "import numpy as np\n",
    "import matplotlib.pyplot as plt\n",
    "import pandas as pd\n",
    "\n",
    "import sys\n",
    "sys.path.append('../')\n",
    "from utils import *"
   ]
  },
  {
   "cell_type": "code",
   "execution_count": 2,
   "id": "ecfd5a89-cd1e-46f0-9e23-e1a82e3b8e2e",
   "metadata": {},
   "outputs": [],
   "source": [
    "file = os.path.join(solar_dir,'DataSets','DS1.csv')"
   ]
  },
  {
   "cell_type": "code",
   "execution_count": 3,
   "id": "f8e4df19-35fb-45a4-9be4-511e58742069",
   "metadata": {},
   "outputs": [
    {
     "data": {
      "text/html": [
       "<div>\n",
       "<style scoped>\n",
       "    .dataframe tbody tr th:only-of-type {\n",
       "        vertical-align: middle;\n",
       "    }\n",
       "\n",
       "    .dataframe tbody tr th {\n",
       "        vertical-align: top;\n",
       "    }\n",
       "\n",
       "    .dataframe thead th {\n",
       "        text-align: right;\n",
       "    }\n",
       "</style>\n",
       "<table border=\"1\" class=\"dataframe\">\n",
       "  <thead>\n",
       "    <tr style=\"text-align: right;\">\n",
       "      <th></th>\n",
       "      <th>File Name</th>\n",
       "      <th>Time [MJD]</th>\n",
       "      <th>RV [m/s]</th>\n",
       "      <th>RV Err. [m/s]</th>\n",
       "      <th>Exp. Time [s]</th>\n",
       "      <th>Airmass</th>\n",
       "      <th>BERV [km/s]</th>\n",
       "      <th>Instrument</th>\n",
       "      <th>Training</th>\n",
       "      <th>Standard File Name</th>\n",
       "      <th>time0</th>\n",
       "      <th>Time [eMJD]</th>\n",
       "    </tr>\n",
       "  </thead>\n",
       "  <tbody>\n",
       "    <tr>\n",
       "      <th>0</th>\n",
       "      <td>Sun_210525.5130.fits</td>\n",
       "      <td>59359.772775</td>\n",
       "      <td>1.203538</td>\n",
       "      <td>0.187206</td>\n",
       "      <td>171.328003</td>\n",
       "      <td>1.043292</td>\n",
       "      <td>-873470.802871</td>\n",
       "      <td>expres</td>\n",
       "      <td>True</td>\n",
       "      <td>DS1.001_spec_expres.fits</td>\n",
       "      <td>59331.417022</td>\n",
       "      <td>59332.189797</td>\n",
       "    </tr>\n",
       "    <tr>\n",
       "      <th>1</th>\n",
       "      <td>Sun_210525.5131.fits</td>\n",
       "      <td>59359.775181</td>\n",
       "      <td>2.447909</td>\n",
       "      <td>0.158428</td>\n",
       "      <td>171.970993</td>\n",
       "      <td>1.041054</td>\n",
       "      <td>-878760.612660</td>\n",
       "      <td>expres</td>\n",
       "      <td>False</td>\n",
       "      <td>DS1.001_v_spec_expres.fits</td>\n",
       "      <td>59331.417022</td>\n",
       "      <td>59332.192203</td>\n",
       "    </tr>\n",
       "    <tr>\n",
       "      <th>2</th>\n",
       "      <td>Sun_210525.5133.fits</td>\n",
       "      <td>59359.780365</td>\n",
       "      <td>2.960539</td>\n",
       "      <td>0.183580</td>\n",
       "      <td>172.710999</td>\n",
       "      <td>1.036903</td>\n",
       "      <td>-890201.347972</td>\n",
       "      <td>expres</td>\n",
       "      <td>True</td>\n",
       "      <td>DS1.002_spec_expres.fits</td>\n",
       "      <td>59331.417022</td>\n",
       "      <td>59332.197387</td>\n",
       "    </tr>\n",
       "    <tr>\n",
       "      <th>3</th>\n",
       "      <td>Sun_210525.5134.fits</td>\n",
       "      <td>59359.782989</td>\n",
       "      <td>1.331532</td>\n",
       "      <td>0.169612</td>\n",
       "      <td>170.763992</td>\n",
       "      <td>1.035140</td>\n",
       "      <td>-896013.033993</td>\n",
       "      <td>expres</td>\n",
       "      <td>True</td>\n",
       "      <td>DS1.003_spec_expres.fits</td>\n",
       "      <td>59331.417022</td>\n",
       "      <td>59332.200011</td>\n",
       "    </tr>\n",
       "    <tr>\n",
       "      <th>4</th>\n",
       "      <td>Sun_210525.5135.fits</td>\n",
       "      <td>59359.785407</td>\n",
       "      <td>2.056687</td>\n",
       "      <td>0.174833</td>\n",
       "      <td>170.039993</td>\n",
       "      <td>1.033719</td>\n",
       "      <td>-901379.903549</td>\n",
       "      <td>expres</td>\n",
       "      <td>False</td>\n",
       "      <td>DS1.002_v_spec_expres.fits</td>\n",
       "      <td>59331.417022</td>\n",
       "      <td>59332.202429</td>\n",
       "    </tr>\n",
       "    <tr>\n",
       "      <th>...</th>\n",
       "      <td>...</td>\n",
       "      <td>...</td>\n",
       "      <td>...</td>\n",
       "      <td>...</td>\n",
       "      <td>...</td>\n",
       "      <td>...</td>\n",
       "      <td>...</td>\n",
       "      <td>...</td>\n",
       "      <td>...</td>\n",
       "      <td>...</td>\n",
       "      <td>...</td>\n",
       "      <td>...</td>\n",
       "    </tr>\n",
       "    <tr>\n",
       "      <th>410</th>\n",
       "      <td>r.HARPS.2021-06-22T17:34:20.363_S2D_BLAZE_A.fits</td>\n",
       "      <td>59387.727314</td>\n",
       "      <td>1.769563</td>\n",
       "      <td>0.287910</td>\n",
       "      <td>29.996500</td>\n",
       "      <td>1.701493</td>\n",
       "      <td>-0.184382</td>\n",
       "      <td>harps</td>\n",
       "      <td>False</td>\n",
       "      <td>DS1.165_v_spec_harps.fits</td>\n",
       "      <td>59331.417022</td>\n",
       "      <td>59360.144336</td>\n",
       "    </tr>\n",
       "    <tr>\n",
       "      <th>411</th>\n",
       "      <td>r.HARPS.2021-06-22T17:35:21.376_S2D_BLAZE_A.fits</td>\n",
       "      <td>59387.728020</td>\n",
       "      <td>-0.540289</td>\n",
       "      <td>0.288271</td>\n",
       "      <td>29.996500</td>\n",
       "      <td>1.703713</td>\n",
       "      <td>-0.185987</td>\n",
       "      <td>harps</td>\n",
       "      <td>True</td>\n",
       "      <td>DS1.247_spec_harps.fits</td>\n",
       "      <td>59331.417022</td>\n",
       "      <td>59360.145042</td>\n",
       "    </tr>\n",
       "    <tr>\n",
       "      <th>412</th>\n",
       "      <td>r.HARPS.2021-06-22T17:36:22.379_S2D_BLAZE_A.fits</td>\n",
       "      <td>59387.728726</td>\n",
       "      <td>-0.423258</td>\n",
       "      <td>0.288395</td>\n",
       "      <td>29.996500</td>\n",
       "      <td>1.705982</td>\n",
       "      <td>-0.187591</td>\n",
       "      <td>harps</td>\n",
       "      <td>False</td>\n",
       "      <td>DS1.166_v_spec_harps.fits</td>\n",
       "      <td>59331.417022</td>\n",
       "      <td>59360.145748</td>\n",
       "    </tr>\n",
       "    <tr>\n",
       "      <th>413</th>\n",
       "      <td>r.HARPS.2021-06-22T17:37:23.372_S2D_BLAZE_A.fits</td>\n",
       "      <td>59387.729432</td>\n",
       "      <td>0.354894</td>\n",
       "      <td>0.288455</td>\n",
       "      <td>29.996500</td>\n",
       "      <td>1.708302</td>\n",
       "      <td>-0.189193</td>\n",
       "      <td>harps</td>\n",
       "      <td>True</td>\n",
       "      <td>DS1.248_spec_harps.fits</td>\n",
       "      <td>59331.417022</td>\n",
       "      <td>59360.146454</td>\n",
       "    </tr>\n",
       "    <tr>\n",
       "      <th>414</th>\n",
       "      <td>r.HARPS.2021-06-22T17:38:27.346_S2D_BLAZE_A.fits</td>\n",
       "      <td>59387.730173</td>\n",
       "      <td>0.526838</td>\n",
       "      <td>0.289106</td>\n",
       "      <td>29.996500</td>\n",
       "      <td>1.710791</td>\n",
       "      <td>-0.190871</td>\n",
       "      <td>harps</td>\n",
       "      <td>True</td>\n",
       "      <td>DS1.249_spec_harps.fits</td>\n",
       "      <td>59331.417022</td>\n",
       "      <td>59360.147195</td>\n",
       "    </tr>\n",
       "  </tbody>\n",
       "</table>\n",
       "<p>415 rows × 12 columns</p>\n",
       "</div>"
      ],
      "text/plain": [
       "                                            File Name    Time [MJD]  RV [m/s]  \\\n",
       "0                                Sun_210525.5130.fits  59359.772775  1.203538   \n",
       "1                                Sun_210525.5131.fits  59359.775181  2.447909   \n",
       "2                                Sun_210525.5133.fits  59359.780365  2.960539   \n",
       "3                                Sun_210525.5134.fits  59359.782989  1.331532   \n",
       "4                                Sun_210525.5135.fits  59359.785407  2.056687   \n",
       "..                                                ...           ...       ...   \n",
       "410  r.HARPS.2021-06-22T17:34:20.363_S2D_BLAZE_A.fits  59387.727314  1.769563   \n",
       "411  r.HARPS.2021-06-22T17:35:21.376_S2D_BLAZE_A.fits  59387.728020 -0.540289   \n",
       "412  r.HARPS.2021-06-22T17:36:22.379_S2D_BLAZE_A.fits  59387.728726 -0.423258   \n",
       "413  r.HARPS.2021-06-22T17:37:23.372_S2D_BLAZE_A.fits  59387.729432  0.354894   \n",
       "414  r.HARPS.2021-06-22T17:38:27.346_S2D_BLAZE_A.fits  59387.730173  0.526838   \n",
       "\n",
       "     RV Err. [m/s]  Exp. Time [s]   Airmass    BERV [km/s] Instrument  \\\n",
       "0         0.187206     171.328003  1.043292 -873470.802871     expres   \n",
       "1         0.158428     171.970993  1.041054 -878760.612660     expres   \n",
       "2         0.183580     172.710999  1.036903 -890201.347972     expres   \n",
       "3         0.169612     170.763992  1.035140 -896013.033993     expres   \n",
       "4         0.174833     170.039993  1.033719 -901379.903549     expres   \n",
       "..             ...            ...       ...            ...        ...   \n",
       "410       0.287910      29.996500  1.701493      -0.184382      harps   \n",
       "411       0.288271      29.996500  1.703713      -0.185987      harps   \n",
       "412       0.288395      29.996500  1.705982      -0.187591      harps   \n",
       "413       0.288455      29.996500  1.708302      -0.189193      harps   \n",
       "414       0.289106      29.996500  1.710791      -0.190871      harps   \n",
       "\n",
       "     Training          Standard File Name         time0   Time [eMJD]  \n",
       "0        True    DS1.001_spec_expres.fits  59331.417022  59332.189797  \n",
       "1       False  DS1.001_v_spec_expres.fits  59331.417022  59332.192203  \n",
       "2        True    DS1.002_spec_expres.fits  59331.417022  59332.197387  \n",
       "3        True    DS1.003_spec_expres.fits  59331.417022  59332.200011  \n",
       "4       False  DS1.002_v_spec_expres.fits  59331.417022  59332.202429  \n",
       "..        ...                         ...           ...           ...  \n",
       "410     False   DS1.165_v_spec_harps.fits  59331.417022  59360.144336  \n",
       "411      True     DS1.247_spec_harps.fits  59331.417022  59360.145042  \n",
       "412     False   DS1.166_v_spec_harps.fits  59331.417022  59360.145748  \n",
       "413      True     DS1.248_spec_harps.fits  59331.417022  59360.146454  \n",
       "414      True     DS1.249_spec_harps.fits  59331.417022  59360.147195  \n",
       "\n",
       "[415 rows x 12 columns]"
      ]
     },
     "execution_count": 3,
     "metadata": {},
     "output_type": "execute_result"
    }
   ],
   "source": [
    "df = pd.read_csv(file)\n",
    "df"
   ]
  },
  {
   "cell_type": "code",
   "execution_count": 4,
   "id": "1d7cfcda-6144-47b0-bbe0-25325a822df9",
   "metadata": {},
   "outputs": [
    {
     "data": {
      "text/plain": [
       "Index(['DS1.001_spec_expres.fits', 'DS1.001_v_spec_expres.fits',\n",
       "       'DS1.002_spec_expres.fits', 'DS1.003_spec_expres.fits',\n",
       "       'DS1.002_v_spec_expres.fits', 'DS1.003_v_spec_harpsn.fits',\n",
       "       'DS1.004_spec_harpsn.fits', 'DS1.005_spec_harpsn.fits',\n",
       "       'DS1.004_v_spec_harpsn.fits', 'DS1.006_spec_harpsn.fits',\n",
       "       ...\n",
       "       'DS1.244_spec_harpsn.fits', 'DS1.245_spec_harpsn.fits',\n",
       "       'DS1.163_v_spec_harpsn.fits', 'DS1.164_v_spec_harpsn.fits',\n",
       "       'DS1.246_spec_harpsn.fits', 'DS1.165_v_spec_harps.fits',\n",
       "       'DS1.247_spec_harps.fits', 'DS1.166_v_spec_harps.fits',\n",
       "       'DS1.248_spec_harps.fits', 'DS1.249_spec_harps.fits'],\n",
       "      dtype='object', name='Standard File Name', length=415)"
      ]
     },
     "execution_count": 4,
     "metadata": {},
     "output_type": "execute_result"
    }
   ],
   "source": [
    "df.set_index('Standard File Name').index"
   ]
  },
  {
   "cell_type": "markdown",
   "id": "02378ff7-3303-43e2-9486-efd2b6637a86",
   "metadata": {},
   "source": [
    "## Number of Observations Per Instrument"
   ]
  },
  {
   "cell_type": "code",
   "execution_count": 5,
   "id": "41dcca17-cfd1-463f-94a5-8a810e41cd88",
   "metadata": {},
   "outputs": [
    {
     "name": "stdout",
     "output_type": "stream",
     "text": [
      "harpsn 85\n",
      "harps 85\n",
      "expres 120\n",
      "neid 125\n"
     ]
    }
   ],
   "source": [
    "for inst in instruments:\n",
    "    print(inst,np.sum(df['Instrument']==inst))"
   ]
  },
  {
   "cell_type": "markdown",
   "id": "c86d55cc-1584-4493-965e-eb0641b37492",
   "metadata": {},
   "source": [
    "## Time Offset"
   ]
  },
  {
   "cell_type": "code",
   "execution_count": 6,
   "id": "660c8391-e47f-4130-ad29-410ec977802d",
   "metadata": {},
   "outputs": [
    {
     "data": {
      "text/plain": [
       "array(['2021-04-28T04:33:18.428', '2021-04-28T04:36:46.341',\n",
       "       '2021-04-28T04:44:14.233'], dtype='<U23')"
      ]
     },
     "execution_count": 6,
     "metadata": {},
     "output_type": "execute_result"
    }
   ],
   "source": [
    "Time(df['Time [eMJD]'],format='mjd').isot[:3]"
   ]
  },
  {
   "cell_type": "code",
   "execution_count": 7,
   "id": "12b624fe-81e2-4def-a6f0-e021eafbfe59",
   "metadata": {},
   "outputs": [
    {
     "data": {
      "text/plain": [
       "True"
      ]
     },
     "execution_count": 7,
     "metadata": {},
     "output_type": "execute_result"
    }
   ],
   "source": [
    "np.isclose(df['Time [eMJD]']-df['time0']+mon_min,df['Time [MJD]']).all()"
   ]
  },
  {
   "cell_type": "markdown",
   "id": "fa210f20-8c6b-4dc1-9c04-cf07034b9ec1",
   "metadata": {},
   "source": [
    "## Check File Numbering"
   ]
  },
  {
   "cell_type": "code",
   "execution_count": 8,
   "id": "00924711-d324-4e4b-8c18-c0a57bb31670",
   "metadata": {},
   "outputs": [
    {
     "data": {
      "text/plain": [
       "True"
      ]
     },
     "execution_count": 8,
     "metadata": {},
     "output_type": "execute_result"
    }
   ],
   "source": [
    "(np.diff(np.array([file.split('_')[0].split('.')[1] for file in df['Standard File Name'][df['Training']]]).astype(int))==1).all()"
   ]
  },
  {
   "cell_type": "code",
   "execution_count": 9,
   "id": "6fbb0245-be43-4fb0-b67b-4a7f81c8423e",
   "metadata": {},
   "outputs": [
    {
     "data": {
      "text/plain": [
       "True"
      ]
     },
     "execution_count": 9,
     "metadata": {},
     "output_type": "execute_result"
    }
   ],
   "source": [
    "(np.diff(np.array([file.split('_')[0].split('.')[1] for file in df['Standard File Name'][~df['Training']]]).astype(int))==1).all()"
   ]
  },
  {
   "cell_type": "markdown",
   "id": "21c4b17e-68a6-433f-b32d-857ca867f5d3",
   "metadata": {},
   "source": [
    "## Check Training/Validation"
   ]
  },
  {
   "cell_type": "code",
   "execution_count": 10,
   "id": "7ea050bf-2f0e-445b-bc8b-fbe22f2d28c0",
   "metadata": {},
   "outputs": [
    {
     "name": "stdout",
     "output_type": "stream",
     "text": [
      "249 415\n"
     ]
    }
   ],
   "source": [
    "print(np.sum(df['Training']),len(df))"
   ]
  },
  {
   "cell_type": "code",
   "execution_count": 11,
   "id": "fc179a09-3606-4d40-8e1d-f7090111324a",
   "metadata": {},
   "outputs": [
    {
     "data": {
      "text/plain": [
       "[<matplotlib.lines.Line2D at 0x1555062b3100>]"
      ]
     },
     "execution_count": 11,
     "metadata": {},
     "output_type": "execute_result"
    },
    {
     "data": {
      "image/png": "[encoded data removed]",
      "text/plain": [
       "<Figure size 640x480 with 1 Axes>"
      ]
     },
     "metadata": {},
     "output_type": "display_data"
    }
   ],
   "source": [
    "t = df['Training']\n",
    "plt.plot(df['Time [eMJD]'][t],df['RV [m/s]'][t],'.')\n",
    "plt.plot(df['Time [eMJD]'][~t],df['RV [m/s]'][~t],'.')"
   ]
  },
  {
   "cell_type": "code",
   "execution_count": null,
   "id": "306d740a-41bb-4ac9-8548-f3509aa934d7",
   "metadata": {},
   "outputs": [],
   "source": []
  }
 ],
 "metadata": {
  "kernelspec": {
   "display_name": "ESSP",
   "language": "python",
   "name": "essp"
  },
  "language_info": {
   "codemirror_mode": {
    "name": "ipython",
    "version": 3
   },
   "file_extension": ".py",
   "mimetype": "text/x-python",
   "name": "python",
   "nbconvert_exporter": "python",
   "pygments_lexer": "ipython3",
   "version": "3.10.13"
  }
 },
 "nbformat": 4,
 "nbformat_minor": 5
}
