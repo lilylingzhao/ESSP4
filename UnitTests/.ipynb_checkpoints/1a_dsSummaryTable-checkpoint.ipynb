{
 "cells": [
  {
   "cell_type": "markdown",
   "id": "4862590a-c382-4016-85a4-f1886fc59da6",
   "metadata": {},
   "source": [
    "# Check Data Set Summary Table"
   ]
  },
  {
   "cell_type": "code",
   "execution_count": 3,
   "id": "3fd13cf1-dfa9-4dc5-91b7-7bb669d3e9c7",
   "metadata": {},
   "outputs": [],
   "source": [
    "import os\n",
    "from glob import glob\n",
    "import numpy as np\n",
    "import matplotlib.pyplot as plt\n",
    "import pandas as pd\n",
    "\n",
    "import sys\n",
    "sys.path.append('../')\n",
    "from utils import *"
   ]
  },
  {
   "cell_type": "code",
   "execution_count": 5,
   "id": "ecfd5a89-cd1e-46f0-9e23-e1a82e3b8e2e",
   "metadata": {},
   "outputs": [],
   "source": [
    "files = glob(os.path.join(solar_dir,'DataSets','*.csv'))"
   ]
  },
  {
   "cell_type": "code",
   "execution_count": 33,
   "id": "f8e4df19-35fb-45a4-9be4-511e58742069",
   "metadata": {},
   "outputs": [
    {
     "data": {
      "text/html": [
       "<div>\n",
       "<style scoped>\n",
       "    .dataframe tbody tr th:only-of-type {\n",
       "        vertical-align: middle;\n",
       "    }\n",
       "\n",
       "    .dataframe tbody tr th {\n",
       "        vertical-align: top;\n",
       "    }\n",
       "\n",
       "    .dataframe thead th {\n",
       "        text-align: right;\n",
       "    }\n",
       "</style>\n",
       "<table border=\"1\" class=\"dataframe\">\n",
       "  <thead>\n",
       "    <tr style=\"text-align: right;\">\n",
       "      <th></th>\n",
       "      <th>Unnamed: 0</th>\n",
       "      <th>File Name</th>\n",
       "      <th>Time [MJD]</th>\n",
       "      <th>RV [m/s]</th>\n",
       "      <th>RV Err. [m/s]</th>\n",
       "      <th>Exp. Time [s]</th>\n",
       "      <th>Airmass</th>\n",
       "      <th>BERV [km/s]</th>\n",
       "      <th>Instrument</th>\n",
       "      <th>Training</th>\n",
       "      <th>Standard File Name</th>\n",
       "      <th>time0</th>\n",
       "      <th>Time [eMJD]</th>\n",
       "    </tr>\n",
       "  </thead>\n",
       "  <tbody>\n",
       "    <tr>\n",
       "      <th>0</th>\n",
       "      <td>0</td>\n",
       "      <td>Sun_210525.5167.fits</td>\n",
       "      <td>59359.857124</td>\n",
       "      <td>0.102165</td>\n",
       "      <td>0.180021</td>\n",
       "      <td>169.487000</td>\n",
       "      <td>1.078890</td>\n",
       "      <td>-1.059077e+06</td>\n",
       "      <td>expres</td>\n",
       "      <td>True</td>\n",
       "      <td>DS0_001_expres.fits</td>\n",
       "      <td>59331.548814</td>\n",
       "      <td>59332.405937</td>\n",
       "    </tr>\n",
       "    <tr>\n",
       "      <th>1</th>\n",
       "      <td>1</td>\n",
       "      <td>Sun_210525.5170.fits</td>\n",
       "      <td>59359.860913</td>\n",
       "      <td>-0.202009</td>\n",
       "      <td>0.180288</td>\n",
       "      <td>168.069000</td>\n",
       "      <td>1.086344</td>\n",
       "      <td>-1.067009e+06</td>\n",
       "      <td>expres</td>\n",
       "      <td>True</td>\n",
       "      <td>DS0_002_expres.fits</td>\n",
       "      <td>59331.548814</td>\n",
       "      <td>59332.409727</td>\n",
       "    </tr>\n",
       "    <tr>\n",
       "      <th>2</th>\n",
       "      <td>2</td>\n",
       "      <td>Sun_210525.5171.fits</td>\n",
       "      <td>59359.863285</td>\n",
       "      <td>-0.358980</td>\n",
       "      <td>0.182267</td>\n",
       "      <td>167.537003</td>\n",
       "      <td>1.091306</td>\n",
       "      <td>-1.071936e+06</td>\n",
       "      <td>expres</td>\n",
       "      <td>False</td>\n",
       "      <td>DS0_v001_expres.fits</td>\n",
       "      <td>59331.548814</td>\n",
       "      <td>59332.412099</td>\n",
       "    </tr>\n",
       "    <tr>\n",
       "      <th>3</th>\n",
       "      <td>3</td>\n",
       "      <td>Sun_210525.5175.fits</td>\n",
       "      <td>59359.873706</td>\n",
       "      <td>-1.076967</td>\n",
       "      <td>0.192353</td>\n",
       "      <td>167.863007</td>\n",
       "      <td>1.115956</td>\n",
       "      <td>-1.093220e+06</td>\n",
       "      <td>expres</td>\n",
       "      <td>True</td>\n",
       "      <td>DS0_003_expres.fits</td>\n",
       "      <td>59331.548814</td>\n",
       "      <td>59332.422520</td>\n",
       "    </tr>\n",
       "    <tr>\n",
       "      <th>4</th>\n",
       "      <td>4</td>\n",
       "      <td>r.HARPN.2021-05-26T10-07-49.253_S2D_BLAZE_A.fits</td>\n",
       "      <td>59360.419000</td>\n",
       "      <td>101.044992</td>\n",
       "      <td>0.299046</td>\n",
       "      <td>300.000000</td>\n",
       "      <td>1.320948</td>\n",
       "      <td>-5.109644e-02</td>\n",
       "      <td>harpsn</td>\n",
       "      <td>True</td>\n",
       "      <td>DS0_004_harpsn.fits</td>\n",
       "      <td>59331.548814</td>\n",
       "      <td>59332.967814</td>\n",
       "    </tr>\n",
       "    <tr>\n",
       "      <th>...</th>\n",
       "      <td>...</td>\n",
       "      <td>...</td>\n",
       "      <td>...</td>\n",
       "      <td>...</td>\n",
       "      <td>...</td>\n",
       "      <td>...</td>\n",
       "      <td>...</td>\n",
       "      <td>...</td>\n",
       "      <td>...</td>\n",
       "      <td>...</td>\n",
       "      <td>...</td>\n",
       "      <td>...</td>\n",
       "      <td>...</td>\n",
       "    </tr>\n",
       "    <tr>\n",
       "      <th>327</th>\n",
       "      <td>327</td>\n",
       "      <td>r.HARPN.2021-06-22T12-09-15.293_S2D_BLAZE_A.fits</td>\n",
       "      <td>59387.503000</td>\n",
       "      <td>99.644874</td>\n",
       "      <td>0.284992</td>\n",
       "      <td>300.000000</td>\n",
       "      <td>1.034233</td>\n",
       "      <td>-6.364489e-03</td>\n",
       "      <td>harpsn</td>\n",
       "      <td>True</td>\n",
       "      <td>DS0_246_harpsn.fits</td>\n",
       "      <td>59331.548814</td>\n",
       "      <td>59360.051814</td>\n",
       "    </tr>\n",
       "    <tr>\n",
       "      <th>328</th>\n",
       "      <td>328</td>\n",
       "      <td>r.HARPS.2021-06-22T17:34:20.363_S2D_BLAZE_A.fits</td>\n",
       "      <td>59387.727314</td>\n",
       "      <td>1.502546</td>\n",
       "      <td>0.287910</td>\n",
       "      <td>29.996500</td>\n",
       "      <td>1.701493</td>\n",
       "      <td>-1.843815e-01</td>\n",
       "      <td>harps</td>\n",
       "      <td>False</td>\n",
       "      <td>DS0_v083_harps.fits</td>\n",
       "      <td>59331.548814</td>\n",
       "      <td>59360.276127</td>\n",
       "    </tr>\n",
       "    <tr>\n",
       "      <th>329</th>\n",
       "      <td>329</td>\n",
       "      <td>r.HARPS.2021-06-22T17:35:21.376_S2D_BLAZE_A.fits</td>\n",
       "      <td>59387.728020</td>\n",
       "      <td>-0.807306</td>\n",
       "      <td>0.288271</td>\n",
       "      <td>29.996500</td>\n",
       "      <td>1.703713</td>\n",
       "      <td>-1.859872e-01</td>\n",
       "      <td>harps</td>\n",
       "      <td>True</td>\n",
       "      <td>DS0_247_harps.fits</td>\n",
       "      <td>59331.548814</td>\n",
       "      <td>59360.276834</td>\n",
       "    </tr>\n",
       "    <tr>\n",
       "      <th>330</th>\n",
       "      <td>330</td>\n",
       "      <td>r.HARPS.2021-06-22T17:36:22.379_S2D_BLAZE_A.fits</td>\n",
       "      <td>59387.728726</td>\n",
       "      <td>-0.690276</td>\n",
       "      <td>0.288395</td>\n",
       "      <td>29.996500</td>\n",
       "      <td>1.705982</td>\n",
       "      <td>-1.875909e-01</td>\n",
       "      <td>harps</td>\n",
       "      <td>True</td>\n",
       "      <td>DS0_248_harps.fits</td>\n",
       "      <td>59331.548814</td>\n",
       "      <td>59360.277540</td>\n",
       "    </tr>\n",
       "    <tr>\n",
       "      <th>331</th>\n",
       "      <td>331</td>\n",
       "      <td>r.HARPS.2021-06-22T17:37:23.372_S2D_BLAZE_A.fits</td>\n",
       "      <td>59387.729432</td>\n",
       "      <td>0.087877</td>\n",
       "      <td>0.288455</td>\n",
       "      <td>29.996500</td>\n",
       "      <td>1.708302</td>\n",
       "      <td>-1.891927e-01</td>\n",
       "      <td>harps</td>\n",
       "      <td>True</td>\n",
       "      <td>DS0_249_harps.fits</td>\n",
       "      <td>59331.548814</td>\n",
       "      <td>59360.278246</td>\n",
       "    </tr>\n",
       "  </tbody>\n",
       "</table>\n",
       "<p>332 rows × 13 columns</p>\n",
       "</div>"
      ],
      "text/plain": [
       "     Unnamed: 0                                         File Name  \\\n",
       "0             0                              Sun_210525.5167.fits   \n",
       "1             1                              Sun_210525.5170.fits   \n",
       "2             2                              Sun_210525.5171.fits   \n",
       "3             3                              Sun_210525.5175.fits   \n",
       "4             4  r.HARPN.2021-05-26T10-07-49.253_S2D_BLAZE_A.fits   \n",
       "..          ...                                               ...   \n",
       "327         327  r.HARPN.2021-06-22T12-09-15.293_S2D_BLAZE_A.fits   \n",
       "328         328  r.HARPS.2021-06-22T17:34:20.363_S2D_BLAZE_A.fits   \n",
       "329         329  r.HARPS.2021-06-22T17:35:21.376_S2D_BLAZE_A.fits   \n",
       "330         330  r.HARPS.2021-06-22T17:36:22.379_S2D_BLAZE_A.fits   \n",
       "331         331  r.HARPS.2021-06-22T17:37:23.372_S2D_BLAZE_A.fits   \n",
       "\n",
       "       Time [MJD]    RV [m/s]  RV Err. [m/s]  Exp. Time [s]   Airmass  \\\n",
       "0    59359.857124    0.102165       0.180021     169.487000  1.078890   \n",
       "1    59359.860913   -0.202009       0.180288     168.069000  1.086344   \n",
       "2    59359.863285   -0.358980       0.182267     167.537003  1.091306   \n",
       "3    59359.873706   -1.076967       0.192353     167.863007  1.115956   \n",
       "4    59360.419000  101.044992       0.299046     300.000000  1.320948   \n",
       "..            ...         ...            ...            ...       ...   \n",
       "327  59387.503000   99.644874       0.284992     300.000000  1.034233   \n",
       "328  59387.727314    1.502546       0.287910      29.996500  1.701493   \n",
       "329  59387.728020   -0.807306       0.288271      29.996500  1.703713   \n",
       "330  59387.728726   -0.690276       0.288395      29.996500  1.705982   \n",
       "331  59387.729432    0.087877       0.288455      29.996500  1.708302   \n",
       "\n",
       "      BERV [km/s] Instrument  Training    Standard File Name         time0  \\\n",
       "0   -1.059077e+06     expres      True   DS0_001_expres.fits  59331.548814   \n",
       "1   -1.067009e+06     expres      True   DS0_002_expres.fits  59331.548814   \n",
       "2   -1.071936e+06     expres     False  DS0_v001_expres.fits  59331.548814   \n",
       "3   -1.093220e+06     expres      True   DS0_003_expres.fits  59331.548814   \n",
       "4   -5.109644e-02     harpsn      True   DS0_004_harpsn.fits  59331.548814   \n",
       "..            ...        ...       ...                   ...           ...   \n",
       "327 -6.364489e-03     harpsn      True   DS0_246_harpsn.fits  59331.548814   \n",
       "328 -1.843815e-01      harps     False   DS0_v083_harps.fits  59331.548814   \n",
       "329 -1.859872e-01      harps      True    DS0_247_harps.fits  59331.548814   \n",
       "330 -1.875909e-01      harps      True    DS0_248_harps.fits  59331.548814   \n",
       "331 -1.891927e-01      harps      True    DS0_249_harps.fits  59331.548814   \n",
       "\n",
       "      Time [eMJD]  \n",
       "0    59332.405937  \n",
       "1    59332.409727  \n",
       "2    59332.412099  \n",
       "3    59332.422520  \n",
       "4    59332.967814  \n",
       "..            ...  \n",
       "327  59360.051814  \n",
       "328  59360.276127  \n",
       "329  59360.276834  \n",
       "330  59360.277540  \n",
       "331  59360.278246  \n",
       "\n",
       "[332 rows x 13 columns]"
      ]
     },
     "execution_count": 33,
     "metadata": {},
     "output_type": "execute_result"
    }
   ],
   "source": [
    "df = pd.read_csv(files[0])\n",
    "df"
   ]
  },
  {
   "cell_type": "markdown",
   "id": "02378ff7-3303-43e2-9486-efd2b6637a86",
   "metadata": {},
   "source": [
    "## Time Offset"
   ]
  },
  {
   "cell_type": "code",
   "execution_count": 17,
   "id": "660c8391-e47f-4130-ad29-410ec977802d",
   "metadata": {},
   "outputs": [
    {
     "data": {
      "text/plain": [
       "array(['2021-04-28T09:44:32.964', '2021-04-28T09:50:00.401',\n",
       "       '2021-04-28T09:53:25.330'], dtype='<U23')"
      ]
     },
     "execution_count": 17,
     "metadata": {},
     "output_type": "execute_result"
    }
   ],
   "source": [
    "Time(df['Time [eMJD]'],format='mjd').isot[:3]"
   ]
  },
  {
   "cell_type": "code",
   "execution_count": 34,
   "id": "12b624fe-81e2-4def-a6f0-e021eafbfe59",
   "metadata": {},
   "outputs": [
    {
     "data": {
      "text/plain": [
       "True"
      ]
     },
     "execution_count": 34,
     "metadata": {},
     "output_type": "execute_result"
    }
   ],
   "source": [
    "np.isclose(df['Time [eMJD]']-df['time0']+mon_min,df['Time [MJD]']).all()"
   ]
  },
  {
   "cell_type": "markdown",
   "id": "fa210f20-8c6b-4dc1-9c04-cf07034b9ec1",
   "metadata": {},
   "source": [
    "## Check File Numbering"
   ]
  },
  {
   "cell_type": "code",
   "execution_count": 26,
   "id": "00924711-d324-4e4b-8c18-c0a57bb31670",
   "metadata": {},
   "outputs": [
    {
     "data": {
      "text/plain": [
       "True"
      ]
     },
     "execution_count": 26,
     "metadata": {},
     "output_type": "execute_result"
    }
   ],
   "source": [
    "(np.diff(np.array([file.split('_')[1] for file in df['Standard File Name'][df['Training']]]).astype(int))==1).all()"
   ]
  },
  {
   "cell_type": "code",
   "execution_count": 27,
   "id": "6fbb0245-be43-4fb0-b67b-4a7f81c8423e",
   "metadata": {},
   "outputs": [
    {
     "data": {
      "text/plain": [
       "True"
      ]
     },
     "execution_count": 27,
     "metadata": {},
     "output_type": "execute_result"
    }
   ],
   "source": [
    "(np.diff(np.array([file.split('_')[1][1:] for file in df['Standard File Name'][~df['Training']]]).astype(int))==1).all()"
   ]
  },
  {
   "cell_type": "markdown",
   "id": "21c4b17e-68a6-433f-b32d-857ca867f5d3",
   "metadata": {},
   "source": [
    "## Check Training/Validation"
   ]
  },
  {
   "cell_type": "code",
   "execution_count": 29,
   "id": "7ea050bf-2f0e-445b-bc8b-fbe22f2d28c0",
   "metadata": {},
   "outputs": [
    {
     "name": "stdout",
     "output_type": "stream",
     "text": [
      "249 332\n"
     ]
    }
   ],
   "source": [
    "print(np.sum(df['Training']),len(df))"
   ]
  },
  {
   "cell_type": "code",
   "execution_count": 31,
   "id": "fc179a09-3606-4d40-8e1d-f7090111324a",
   "metadata": {},
   "outputs": [
    {
     "data": {
      "text/plain": [
       "[<matplotlib.lines.Line2D at 0x1555044d4640>]"
      ]
     },
     "execution_count": 31,
     "metadata": {},
     "output_type": "execute_result"
    },
    {
     "data": {
      "image/png": "[encoded data removed]",
      "text/plain": [
       "<Figure size 432x288 with 1 Axes>"
      ]
     },
     "metadata": {
      "needs_background": "light"
     },
     "output_type": "display_data"
    }
   ],
   "source": [
    "t = df['Training']\n",
    "plt.plot(df['Time [eMJD]'][t],df['RV [m/s]'][t],'.')\n",
    "plt.plot(df['Time [eMJD]'][~t],df['RV [m/s]'][~t],'.')"
   ]
  },
  {
   "cell_type": "code",
   "execution_count": null,
   "id": "306d740a-41bb-4ac9-8548-f3509aa934d7",
   "metadata": {},
   "outputs": [],
   "source": []
  }
 ],
 "metadata": {
  "kernelspec": {
   "display_name": "EXPRES",
   "language": "python",
   "name": "expres"
  },
  "language_info": {
   "codemirror_mode": {
    "name": "ipython",
    "version": 3
   },
   "file_extension": ".py",
   "mimetype": "text/x-python",
   "name": "python",
   "nbconvert_exporter": "python",
   "pygments_lexer": "ipython3",
   "version": "3.10.4"
  }
 },
 "nbformat": 4,
 "nbformat_minor": 5
}
