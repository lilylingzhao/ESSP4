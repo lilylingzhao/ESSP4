{
 "cells": [
  {
   "cell_type": "markdown",
   "id": "b712e145-b276-4c7b-b157-d00d3e8492c4",
   "metadata": {},
   "source": [
    "# Work With Time Series File For ESSP4\n",
    "There is one time series file for each data set of the form: `DS#_timeSeries.csv`\n",
    "\n",
    "For example, the relevant file for data set three (3) would be: `DS3_timeSeries.csv`"
   ]
  },
  {
   "cell_type": "code",
   "execution_count": 1,
   "id": "f3f66531-e7d7-4d34-ad67-ddc8ade51881",
   "metadata": {},
   "outputs": [],
   "source": [
    "import os\n",
    "from glob import glob\n",
    "import numpy as np\n",
    "import matplotlib.pyplot as plt\n",
    "import pandas as pd"
   ]
  },
  {
   "cell_type": "code",
   "execution_count": 2,
   "id": "5707e7f4-74f2-43d5-a0ba-d960f6c49b23",
   "metadata": {},
   "outputs": [],
   "source": [
    "# Specify file name\n",
    "\n",
    "# Specify data set number\n",
    "dset_num = 0 \n",
    "\n",
    "# Specify where all the data set folders are, here saved into \"essp_dir\" variable\n",
    "essp_dir = '/mnt/home/lzhao/ceph/SolarData/DataSets/Training/'\n",
    "dset_dir = os.path.join(essp_dir,f'DS{dset_num}')\n",
    "\n",
    "example_file = os.path.join(dset_dir,f'DS{dset_num}_timeSeries.csv')"
   ]
  },
  {
   "cell_type": "markdown",
   "id": "819132ed-6562-4721-bfc6-be6075863799",
   "metadata": {},
   "source": [
    "## Read in with `pandas`"
   ]
  },
  {
   "cell_type": "code",
   "execution_count": 3,
   "id": "8c2af858-417b-4973-8962-3922d52a9d82",
   "metadata": {},
   "outputs": [
    {
     "data": {
      "text/html": [
       "<div>\n",
       "<style scoped>\n",
       "    .dataframe tbody tr th:only-of-type {\n",
       "        vertical-align: middle;\n",
       "    }\n",
       "\n",
       "    .dataframe tbody tr th {\n",
       "        vertical-align: top;\n",
       "    }\n",
       "\n",
       "    .dataframe thead th {\n",
       "        text-align: right;\n",
       "    }\n",
       "</style>\n",
       "<table border=\"1\" class=\"dataframe\">\n",
       "  <thead>\n",
       "    <tr style=\"text-align: right;\">\n",
       "      <th></th>\n",
       "      <th>Standard File Name</th>\n",
       "      <th>Time [eMJD]</th>\n",
       "      <th>RV [m/s]</th>\n",
       "      <th>RV Err. [m/s]</th>\n",
       "      <th>Exp. Time [s]</th>\n",
       "      <th>Airmass</th>\n",
       "      <th>BERV [km/s]</th>\n",
       "      <th>Instrument</th>\n",
       "      <th>CCF FWHM [km/s]</th>\n",
       "      <th>CCF FWHM Err. [km/s]</th>\n",
       "      <th>CCF Contrast</th>\n",
       "      <th>CCF Contrast Err.</th>\n",
       "      <th>BIS [km/s]</th>\n",
       "      <th>H-alpha Emission</th>\n",
       "      <th>S Index</th>\n",
       "    </tr>\n",
       "  </thead>\n",
       "  <tbody>\n",
       "    <tr>\n",
       "      <th>0</th>\n",
       "      <td>DS0.001_spec_expres.fits</td>\n",
       "      <td>59332.405937</td>\n",
       "      <td>0.102165</td>\n",
       "      <td>0.180021</td>\n",
       "      <td>169.487000</td>\n",
       "      <td>1.078890</td>\n",
       "      <td>-1.059077e+06</td>\n",
       "      <td>expres</td>\n",
       "      <td>NaN</td>\n",
       "      <td>NaN</td>\n",
       "      <td>NaN</td>\n",
       "      <td>NaN</td>\n",
       "      <td>NaN</td>\n",
       "      <td>NaN</td>\n",
       "      <td>NaN</td>\n",
       "    </tr>\n",
       "    <tr>\n",
       "      <th>1</th>\n",
       "      <td>DS0.002_spec_expres.fits</td>\n",
       "      <td>59332.409727</td>\n",
       "      <td>-0.202009</td>\n",
       "      <td>0.180288</td>\n",
       "      <td>168.069000</td>\n",
       "      <td>1.086344</td>\n",
       "      <td>-1.067009e+06</td>\n",
       "      <td>expres</td>\n",
       "      <td>NaN</td>\n",
       "      <td>NaN</td>\n",
       "      <td>NaN</td>\n",
       "      <td>NaN</td>\n",
       "      <td>NaN</td>\n",
       "      <td>NaN</td>\n",
       "      <td>NaN</td>\n",
       "    </tr>\n",
       "    <tr>\n",
       "      <th>2</th>\n",
       "      <td>DS0.003_spec_expres.fits</td>\n",
       "      <td>59332.422520</td>\n",
       "      <td>-1.076967</td>\n",
       "      <td>0.192353</td>\n",
       "      <td>167.863007</td>\n",
       "      <td>1.115956</td>\n",
       "      <td>-1.093220e+06</td>\n",
       "      <td>expres</td>\n",
       "      <td>NaN</td>\n",
       "      <td>NaN</td>\n",
       "      <td>NaN</td>\n",
       "      <td>NaN</td>\n",
       "      <td>NaN</td>\n",
       "      <td>NaN</td>\n",
       "      <td>NaN</td>\n",
       "    </tr>\n",
       "    <tr>\n",
       "      <th>3</th>\n",
       "      <td>DS0.004_spec_harpsn.fits</td>\n",
       "      <td>59332.967814</td>\n",
       "      <td>101.044992</td>\n",
       "      <td>0.299046</td>\n",
       "      <td>300.000000</td>\n",
       "      <td>1.320948</td>\n",
       "      <td>-5.109644e-02</td>\n",
       "      <td>harpsn</td>\n",
       "      <td>NaN</td>\n",
       "      <td>NaN</td>\n",
       "      <td>NaN</td>\n",
       "      <td>NaN</td>\n",
       "      <td>NaN</td>\n",
       "      <td>NaN</td>\n",
       "      <td>NaN</td>\n",
       "    </tr>\n",
       "    <tr>\n",
       "      <th>4</th>\n",
       "      <td>DS0.005_spec_harpsn.fits</td>\n",
       "      <td>59332.971814</td>\n",
       "      <td>100.919537</td>\n",
       "      <td>0.301153</td>\n",
       "      <td>300.000000</td>\n",
       "      <td>1.298025</td>\n",
       "      <td>-5.756110e-02</td>\n",
       "      <td>harpsn</td>\n",
       "      <td>NaN</td>\n",
       "      <td>NaN</td>\n",
       "      <td>NaN</td>\n",
       "      <td>NaN</td>\n",
       "      <td>NaN</td>\n",
       "      <td>NaN</td>\n",
       "      <td>NaN</td>\n",
       "    </tr>\n",
       "  </tbody>\n",
       "</table>\n",
       "</div>"
      ],
      "text/plain": [
       "         Standard File Name   Time [eMJD]    RV [m/s]  RV Err. [m/s]  \\\n",
       "0  DS0.001_spec_expres.fits  59332.405937    0.102165       0.180021   \n",
       "1  DS0.002_spec_expres.fits  59332.409727   -0.202009       0.180288   \n",
       "2  DS0.003_spec_expres.fits  59332.422520   -1.076967       0.192353   \n",
       "3  DS0.004_spec_harpsn.fits  59332.967814  101.044992       0.299046   \n",
       "4  DS0.005_spec_harpsn.fits  59332.971814  100.919537       0.301153   \n",
       "\n",
       "   Exp. Time [s]   Airmass   BERV [km/s] Instrument  CCF FWHM [km/s]  \\\n",
       "0     169.487000  1.078890 -1.059077e+06     expres              NaN   \n",
       "1     168.069000  1.086344 -1.067009e+06     expres              NaN   \n",
       "2     167.863007  1.115956 -1.093220e+06     expres              NaN   \n",
       "3     300.000000  1.320948 -5.109644e-02     harpsn              NaN   \n",
       "4     300.000000  1.298025 -5.756110e-02     harpsn              NaN   \n",
       "\n",
       "   CCF FWHM Err. [km/s]  CCF Contrast  CCF Contrast Err.  BIS [km/s]  \\\n",
       "0                   NaN           NaN                NaN         NaN   \n",
       "1                   NaN           NaN                NaN         NaN   \n",
       "2                   NaN           NaN                NaN         NaN   \n",
       "3                   NaN           NaN                NaN         NaN   \n",
       "4                   NaN           NaN                NaN         NaN   \n",
       "\n",
       "   H-alpha Emission  S Index  \n",
       "0               NaN      NaN  \n",
       "1               NaN      NaN  \n",
       "2               NaN      NaN  \n",
       "3               NaN      NaN  \n",
       "4               NaN      NaN  "
      ]
     },
     "execution_count": 3,
     "metadata": {},
     "output_type": "execute_result"
    }
   ],
   "source": [
    "df = pd.read_csv(example_file)\n",
    "# Show a snippet of the beginning of the table\n",
    "df.head()"
   ]
  },
  {
   "cell_type": "code",
   "execution_count": null,
   "id": "4693fa90-6694-4afd-ab9a-b3f2a1665369",
   "metadata": {},
   "outputs": [],
   "source": [
    "# Here are all the column names\n",
    "df.columns"
   ]
  },
  {
   "cell_type": "markdown",
   "id": "2c0e5daf-bd7b-469a-af56-34eca0a5a79c",
   "metadata": {},
   "source": [
    "#### Plot RVs and Errors"
   ]
  },
  {
   "cell_type": "code",
   "execution_count": null,
   "id": "a93fdb8c-ad09-4836-8882-80635cd9fb1a",
   "metadata": {
    "tags": []
   },
   "outputs": [],
   "source": [
    "plt.figure(figsize=(12,4))\n",
    "plt.errorbar(df['Time [eMJD]'],df['RV [m/s]'],yerr=df['RV Err. [m/s]'],\n",
    "             linestyle='None',marker='o',color='k')"
   ]
  },
  {
   "cell_type": "markdown",
   "id": "00aa916a-c697-4e3d-aa14-1825094a13fd",
   "metadata": {},
   "source": [
    "## Rename Columns\n",
    "I know the column names are unwieldy.  You can easily re-name columns using a dictionary with pandas."
   ]
  },
  {
   "cell_type": "code",
   "execution_count": null,
   "id": "bbf9b107-200c-407c-a9f2-b2afe6ad86ac",
   "metadata": {},
   "outputs": [],
   "source": [
    "# Here are just some example new column names\n",
    "# The key should be the original column name; the value should be the new name\n",
    "col_dict = {\n",
    "    'Standard File Name' : 'file',\n",
    "    'Time [eMJD]' : 'time',\n",
    "    'RV [m/s]' : 'rv',\n",
    "    'RV Err. [m/s]' : 'e_rv',\n",
    "    'Exp. Time [s]' : 'exptime',\n",
    "    'Airmass' : 'airmass',\n",
    "    'BERV [km/s]' : 'berv',\n",
    "    'Instrument' : 'inst',\n",
    "    'CCF FWHM [km/s]' : 'fwhm',\n",
    "    'CCF FWHM Err. [km/s]' : 'e_fwhm',\n",
    "    'CCF Contrast' : 'contrast',\n",
    "    'CCF Contrast Err.' : 'e_contrast',\n",
    "    'BIS [km/s]' : 'bis',\n",
    "    'H-alpha Emission' : 'ha',\n",
    "    'S Index' : 'sval'\n",
    "}"
   ]
  },
  {
   "cell_type": "code",
   "execution_count": null,
   "id": "44e69cfd-aede-41a2-b0e4-6b749bd43d47",
   "metadata": {
    "tags": []
   },
   "outputs": [],
   "source": [
    "df = pd.read_csv(example_file)\n",
    "renamed_df = df.rename(columns=col_dict)\n",
    "renamed_df.head()"
   ]
  },
  {
   "cell_type": "markdown",
   "id": "80638db2-934b-46ca-afdd-19080dea7b1a",
   "metadata": {
    "tags": []
   },
   "source": [
    "## Read Into Dictionary\n",
    "If you don't like using `pandas` objects, I recommend using pandas to convert into a dictionary of lists.  The only annoying thing with this option is that each time series will be turned into a list, not a numpy array, and therefore will be missing some functionality.\n",
    "\n",
    "Because of the structure of the CSV file and the mix of data types, it is pretty non-trivial to read it in with `numpy` alone."
   ]
  },
  {
   "cell_type": "code",
   "execution_count": null,
   "id": "f10fdc85-b8e8-4ad0-8c58-2502d06889b8",
   "metadata": {},
   "outputs": [],
   "source": [
    "df = pd.read_csv(example_file)\n",
    "data_dict = df.to_dict('list')"
   ]
  },
  {
   "cell_type": "code",
   "execution_count": null,
   "id": "dcde426d-73ba-416f-a632-58a99df23f8e",
   "metadata": {},
   "outputs": [],
   "source": [
    "plt.figure(figsize=(12,4))\n",
    "plt.errorbar(df['Time [eMJD]'],df['RV [m/s]'],yerr=df['RV Err. [m/s]'],\n",
    "             linestyle='None',marker='o',color='k')"
   ]
  },
  {
   "cell_type": "code",
   "execution_count": null,
   "id": "6d37b22c-0453-47cf-a55e-5383f5bda9f9",
   "metadata": {},
   "outputs": [],
   "source": []
  }
 ],
 "metadata": {
  "kernelspec": {
   "display_name": "EXPRES",
   "language": "python",
   "name": "expres"
  },
  "language_info": {
   "codemirror_mode": {
    "name": "ipython",
    "version": 3
   },
   "file_extension": ".py",
   "mimetype": "text/x-python",
   "name": "python",
   "nbconvert_exporter": "python",
   "pygments_lexer": "ipython3",
   "version": "3.10.4"
  }
 },
 "nbformat": 4,
 "nbformat_minor": 5
}
