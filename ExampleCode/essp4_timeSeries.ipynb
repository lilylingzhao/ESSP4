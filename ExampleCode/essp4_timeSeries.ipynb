{
 "cells": [
  {
   "cell_type": "markdown",
   "id": "b712e145-b276-4c7b-b157-d00d3e8492c4",
   "metadata": {},
   "source": [
    "# Work With Time Series File For ESSP4\n",
    "There is one time series file for each data set of the form: `DS#_timeSeries.csv`\n",
    "\n",
    "For example, the relevant file for data set three (3) would be: `DS3_timeSeries.csv`"
   ]
  },
  {
   "cell_type": "code",
   "execution_count": 1,
   "id": "f3f66531-e7d7-4d34-ad67-ddc8ade51881",
   "metadata": {},
   "outputs": [],
   "source": [
    "import os\n",
    "from glob import glob\n",
    "import numpy as np\n",
    "import matplotlib.pyplot as plt\n",
    "import pandas as pd"
   ]
  },
  {
   "cell_type": "code",
   "execution_count": 2,
   "id": "5707e7f4-74f2-43d5-a0ba-d960f6c49b23",
   "metadata": {},
   "outputs": [],
   "source": [
    "# Specify file name\n",
    "\n",
    "# Specify where all the data set folders (i.e. DS1) are, here saved into \"essp_dir\" variable\n",
    "essp_dir = \n",
    "\n",
    "# Specify data set number\n",
    "dset_num = 1\n",
    "\n",
    "example_file = os.path.join(essp_dir,f'DS{dset_num}',f'DS{dset_num}_timeSeries.csv')"
   ]
  },
  {
   "cell_type": "markdown",
   "id": "819132ed-6562-4721-bfc6-be6075863799",
   "metadata": {},
   "source": [
    "## Read in with `pandas`"
   ]
  },
  {
   "cell_type": "code",
   "execution_count": 3,
   "id": "8c2af858-417b-4973-8962-3922d52a9d82",
   "metadata": {},
   "outputs": [
    {
     "data": {
      "text/html": [
       "<div>\n",
       "<style scoped>\n",
       "    .dataframe tbody tr th:only-of-type {\n",
       "        vertical-align: middle;\n",
       "    }\n",
       "\n",
       "    .dataframe tbody tr th {\n",
       "        vertical-align: top;\n",
       "    }\n",
       "\n",
       "    .dataframe thead th {\n",
       "        text-align: right;\n",
       "    }\n",
       "</style>\n",
       "<table border=\"1\" class=\"dataframe\">\n",
       "  <thead>\n",
       "    <tr style=\"text-align: right;\">\n",
       "      <th></th>\n",
       "      <th>Standard File Name</th>\n",
       "      <th>Time [eMJD]</th>\n",
       "      <th>RV [m/s]</th>\n",
       "      <th>RV Err. [m/s]</th>\n",
       "      <th>Exp. Time [s]</th>\n",
       "      <th>Airmass</th>\n",
       "      <th>BERV [km/s]</th>\n",
       "      <th>Instrument</th>\n",
       "      <th>CCF FWHM [km/s]</th>\n",
       "      <th>CCF FWHM Err. [km/s]</th>\n",
       "      <th>CCF Contrast</th>\n",
       "      <th>CCF Contrast Err.</th>\n",
       "      <th>BIS [m/s]</th>\n",
       "      <th>H-alpha Emission</th>\n",
       "      <th>CaII Emission</th>\n",
       "    </tr>\n",
       "  </thead>\n",
       "  <tbody>\n",
       "    <tr>\n",
       "      <th>0</th>\n",
       "      <td>DS1.001_spec_expres.fits</td>\n",
       "      <td>59332.189797</td>\n",
       "      <td>0.457618</td>\n",
       "      <td>0.175</td>\n",
       "      <td>171.328003</td>\n",
       "      <td>1.043292</td>\n",
       "      <td>-873470.802871</td>\n",
       "      <td>expres</td>\n",
       "      <td>6.575316</td>\n",
       "      <td>0.016461</td>\n",
       "      <td>-331658.144491</td>\n",
       "      <td>566.714052</td>\n",
       "      <td>-62.150000</td>\n",
       "      <td>0.171580</td>\n",
       "      <td>0.101278</td>\n",
       "    </tr>\n",
       "    <tr>\n",
       "      <th>1</th>\n",
       "      <td>DS1.002_spec_expres.fits</td>\n",
       "      <td>59332.197387</td>\n",
       "      <td>2.909618</td>\n",
       "      <td>0.175</td>\n",
       "      <td>172.710999</td>\n",
       "      <td>1.036903</td>\n",
       "      <td>-890201.347972</td>\n",
       "      <td>expres</td>\n",
       "      <td>6.579385</td>\n",
       "      <td>0.016852</td>\n",
       "      <td>-331664.020024</td>\n",
       "      <td>579.700435</td>\n",
       "      <td>-65.383333</td>\n",
       "      <td>0.171918</td>\n",
       "      <td>0.098143</td>\n",
       "    </tr>\n",
       "    <tr>\n",
       "      <th>2</th>\n",
       "      <td>DS1.003_spec_expres.fits</td>\n",
       "      <td>59332.200011</td>\n",
       "      <td>1.734618</td>\n",
       "      <td>0.175</td>\n",
       "      <td>170.763992</td>\n",
       "      <td>1.035140</td>\n",
       "      <td>-896013.033993</td>\n",
       "      <td>expres</td>\n",
       "      <td>6.578262</td>\n",
       "      <td>0.016516</td>\n",
       "      <td>-331734.120654</td>\n",
       "      <td>568.400481</td>\n",
       "      <td>-65.733333</td>\n",
       "      <td>0.172180</td>\n",
       "      <td>0.099741</td>\n",
       "    </tr>\n",
       "    <tr>\n",
       "      <th>3</th>\n",
       "      <td>DS1.004_spec_harpsn.fits</td>\n",
       "      <td>59332.836022</td>\n",
       "      <td>-1.370231</td>\n",
       "      <td>0.162</td>\n",
       "      <td>300.000000</td>\n",
       "      <td>1.320948</td>\n",
       "      <td>-0.051096</td>\n",
       "      <td>harpsn</td>\n",
       "      <td>6.669695</td>\n",
       "      <td>0.014380</td>\n",
       "      <td>-416001.378021</td>\n",
       "      <td>608.952395</td>\n",
       "      <td>-41.766667</td>\n",
       "      <td>0.174735</td>\n",
       "      <td>0.099259</td>\n",
       "    </tr>\n",
       "    <tr>\n",
       "      <th>4</th>\n",
       "      <td>DS1.005_spec_harpsn.fits</td>\n",
       "      <td>59332.840022</td>\n",
       "      <td>-2.074231</td>\n",
       "      <td>0.160</td>\n",
       "      <td>300.000000</td>\n",
       "      <td>1.298025</td>\n",
       "      <td>-0.057561</td>\n",
       "      <td>harpsn</td>\n",
       "      <td>6.667775</td>\n",
       "      <td>0.014731</td>\n",
       "      <td>-415949.760210</td>\n",
       "      <td>623.857078</td>\n",
       "      <td>-41.633333</td>\n",
       "      <td>0.174129</td>\n",
       "      <td>0.105292</td>\n",
       "    </tr>\n",
       "  </tbody>\n",
       "</table>\n",
       "</div>"
      ],
      "text/plain": [
       "         Standard File Name   Time [eMJD]  RV [m/s]  RV Err. [m/s]  \\\n",
       "0  DS1.001_spec_expres.fits  59332.189797  0.457618          0.175   \n",
       "1  DS1.002_spec_expres.fits  59332.197387  2.909618          0.175   \n",
       "2  DS1.003_spec_expres.fits  59332.200011  1.734618          0.175   \n",
       "3  DS1.004_spec_harpsn.fits  59332.836022 -1.370231          0.162   \n",
       "4  DS1.005_spec_harpsn.fits  59332.840022 -2.074231          0.160   \n",
       "\n",
       "   Exp. Time [s]   Airmass    BERV [km/s] Instrument  CCF FWHM [km/s]  \\\n",
       "0     171.328003  1.043292 -873470.802871     expres         6.575316   \n",
       "1     172.710999  1.036903 -890201.347972     expres         6.579385   \n",
       "2     170.763992  1.035140 -896013.033993     expres         6.578262   \n",
       "3     300.000000  1.320948      -0.051096     harpsn         6.669695   \n",
       "4     300.000000  1.298025      -0.057561     harpsn         6.667775   \n",
       "\n",
       "   CCF FWHM Err. [km/s]   CCF Contrast  CCF Contrast Err.  BIS [m/s]  \\\n",
       "0              0.016461 -331658.144491         566.714052 -62.150000   \n",
       "1              0.016852 -331664.020024         579.700435 -65.383333   \n",
       "2              0.016516 -331734.120654         568.400481 -65.733333   \n",
       "3              0.014380 -416001.378021         608.952395 -41.766667   \n",
       "4              0.014731 -415949.760210         623.857078 -41.633333   \n",
       "\n",
       "   H-alpha Emission  CaII Emission  \n",
       "0          0.171580       0.101278  \n",
       "1          0.171918       0.098143  \n",
       "2          0.172180       0.099741  \n",
       "3          0.174735       0.099259  \n",
       "4          0.174129       0.105292  "
      ]
     },
     "execution_count": 3,
     "metadata": {},
     "output_type": "execute_result"
    }
   ],
   "source": [
    "df = pd.read_csv(example_file)\n",
    "# Show a snippet of the beginning of the table\n",
    "df.head()"
   ]
  },
  {
   "cell_type": "code",
   "execution_count": 4,
   "id": "4693fa90-6694-4afd-ab9a-b3f2a1665369",
   "metadata": {},
   "outputs": [
    {
     "data": {
      "text/plain": [
       "Index(['Standard File Name', 'Time [eMJD]', 'RV [m/s]', 'RV Err. [m/s]',\n",
       "       'Exp. Time [s]', 'Airmass', 'BERV [km/s]', 'Instrument',\n",
       "       'CCF FWHM [km/s]', 'CCF FWHM Err. [km/s]', 'CCF Contrast',\n",
       "       'CCF Contrast Err.', 'BIS [m/s]', 'H-alpha Emission', 'CaII Emission'],\n",
       "      dtype='object')"
      ]
     },
     "execution_count": 4,
     "metadata": {},
     "output_type": "execute_result"
    }
   ],
   "source": [
    "# Here are all the column names\n",
    "df.columns"
   ]
  },
  {
   "cell_type": "markdown",
   "id": "2c0e5daf-bd7b-469a-af56-34eca0a5a79c",
   "metadata": {},
   "source": [
    "#### Plot RVs and Errors"
   ]
  },
  {
   "cell_type": "code",
   "execution_count": 5,
   "id": "a93fdb8c-ad09-4836-8882-80635cd9fb1a",
   "metadata": {
    "tags": []
   },
   "outputs": [
    {
     "data": {
      "text/plain": [
       "<ErrorbarContainer object of 3 artists>"
      ]
     },
     "execution_count": 5,
     "metadata": {},
     "output_type": "execute_result"
    },
    {
     "data": {
      "image/png": "[encoded data removed]",
      "text/plain": [
       "<Figure size 1200x400 with 1 Axes>"
      ]
     },
     "metadata": {},
     "output_type": "display_data"
    }
   ],
   "source": [
    "plt.figure(figsize=(12,4))\n",
    "plt.errorbar(df['Time [eMJD]'],df['RV [m/s]'],yerr=df['RV Err. [m/s]'],\n",
    "             linestyle='None',marker='o',color='k')"
   ]
  },
  {
   "cell_type": "markdown",
   "id": "00aa916a-c697-4e3d-aa14-1825094a13fd",
   "metadata": {},
   "source": [
    "## Rename Columns\n",
    "I'm not crazy; I know the column names are unwieldy.  Here is code to re-name columns to those of your choosing using `pandas`.  New column names are defined using a dictionary that maps old names to new.  The dictionary does not need to include all column names."
   ]
  },
  {
   "cell_type": "code",
   "execution_count": 6,
   "id": "bbf9b107-200c-407c-a9f2-b2afe6ad86ac",
   "metadata": {},
   "outputs": [],
   "source": [
    "# Here are just some example new column names\n",
    "# The key should be the original column name; the value should be the new name\n",
    "col_dict = {\n",
    "    'Standard File Name' : 'file',\n",
    "    'Time [eMJD]' : 'time',\n",
    "    'RV [m/s]' : 'rv',\n",
    "    'RV Err. [m/s]' : 'e_rv',\n",
    "    'Exp. Time [s]' : 'exptime',\n",
    "    'Airmass' : 'airmass',\n",
    "    'BERV [km/s]' : 'berv',\n",
    "    'Instrument' : 'inst',\n",
    "    'CCF FWHM [km/s]' : 'fwhm',\n",
    "    'CCF FWHM Err. [km/s]' : 'e_fwhm',\n",
    "    'CCF Contrast' : 'contrast',\n",
    "    'CCF Contrast Err.' : 'e_contrast',\n",
    "    'BIS [m/s]' : 'bis',\n",
    "    'H-alpha Emission' : 'ha',\n",
    "    'CaII Emission' : 'sval'\n",
    "}"
   ]
  },
  {
   "cell_type": "code",
   "execution_count": 7,
   "id": "44e69cfd-aede-41a2-b0e4-6b749bd43d47",
   "metadata": {
    "tags": []
   },
   "outputs": [
    {
     "data": {
      "text/html": [
       "<div>\n",
       "<style scoped>\n",
       "    .dataframe tbody tr th:only-of-type {\n",
       "        vertical-align: middle;\n",
       "    }\n",
       "\n",
       "    .dataframe tbody tr th {\n",
       "        vertical-align: top;\n",
       "    }\n",
       "\n",
       "    .dataframe thead th {\n",
       "        text-align: right;\n",
       "    }\n",
       "</style>\n",
       "<table border=\"1\" class=\"dataframe\">\n",
       "  <thead>\n",
       "    <tr style=\"text-align: right;\">\n",
       "      <th></th>\n",
       "      <th>file</th>\n",
       "      <th>time</th>\n",
       "      <th>rv</th>\n",
       "      <th>e_rv</th>\n",
       "      <th>exptime</th>\n",
       "      <th>airmass</th>\n",
       "      <th>berv</th>\n",
       "      <th>inst</th>\n",
       "      <th>fwhm</th>\n",
       "      <th>e_fwhm</th>\n",
       "      <th>contrast</th>\n",
       "      <th>e_contrast</th>\n",
       "      <th>bis</th>\n",
       "      <th>ha</th>\n",
       "      <th>sval</th>\n",
       "    </tr>\n",
       "  </thead>\n",
       "  <tbody>\n",
       "    <tr>\n",
       "      <th>0</th>\n",
       "      <td>DS1.001_spec_expres.fits</td>\n",
       "      <td>59332.189797</td>\n",
       "      <td>0.457618</td>\n",
       "      <td>0.175</td>\n",
       "      <td>171.328003</td>\n",
       "      <td>1.043292</td>\n",
       "      <td>-873470.802871</td>\n",
       "      <td>expres</td>\n",
       "      <td>6.575316</td>\n",
       "      <td>0.016461</td>\n",
       "      <td>-331658.144491</td>\n",
       "      <td>566.714052</td>\n",
       "      <td>-62.150000</td>\n",
       "      <td>0.171580</td>\n",
       "      <td>0.101278</td>\n",
       "    </tr>\n",
       "    <tr>\n",
       "      <th>1</th>\n",
       "      <td>DS1.002_spec_expres.fits</td>\n",
       "      <td>59332.197387</td>\n",
       "      <td>2.909618</td>\n",
       "      <td>0.175</td>\n",
       "      <td>172.710999</td>\n",
       "      <td>1.036903</td>\n",
       "      <td>-890201.347972</td>\n",
       "      <td>expres</td>\n",
       "      <td>6.579385</td>\n",
       "      <td>0.016852</td>\n",
       "      <td>-331664.020024</td>\n",
       "      <td>579.700435</td>\n",
       "      <td>-65.383333</td>\n",
       "      <td>0.171918</td>\n",
       "      <td>0.098143</td>\n",
       "    </tr>\n",
       "    <tr>\n",
       "      <th>2</th>\n",
       "      <td>DS1.003_spec_expres.fits</td>\n",
       "      <td>59332.200011</td>\n",
       "      <td>1.734618</td>\n",
       "      <td>0.175</td>\n",
       "      <td>170.763992</td>\n",
       "      <td>1.035140</td>\n",
       "      <td>-896013.033993</td>\n",
       "      <td>expres</td>\n",
       "      <td>6.578262</td>\n",
       "      <td>0.016516</td>\n",
       "      <td>-331734.120654</td>\n",
       "      <td>568.400481</td>\n",
       "      <td>-65.733333</td>\n",
       "      <td>0.172180</td>\n",
       "      <td>0.099741</td>\n",
       "    </tr>\n",
       "    <tr>\n",
       "      <th>3</th>\n",
       "      <td>DS1.004_spec_harpsn.fits</td>\n",
       "      <td>59332.836022</td>\n",
       "      <td>-1.370231</td>\n",
       "      <td>0.162</td>\n",
       "      <td>300.000000</td>\n",
       "      <td>1.320948</td>\n",
       "      <td>-0.051096</td>\n",
       "      <td>harpsn</td>\n",
       "      <td>6.669695</td>\n",
       "      <td>0.014380</td>\n",
       "      <td>-416001.378021</td>\n",
       "      <td>608.952395</td>\n",
       "      <td>-41.766667</td>\n",
       "      <td>0.174735</td>\n",
       "      <td>0.099259</td>\n",
       "    </tr>\n",
       "    <tr>\n",
       "      <th>4</th>\n",
       "      <td>DS1.005_spec_harpsn.fits</td>\n",
       "      <td>59332.840022</td>\n",
       "      <td>-2.074231</td>\n",
       "      <td>0.160</td>\n",
       "      <td>300.000000</td>\n",
       "      <td>1.298025</td>\n",
       "      <td>-0.057561</td>\n",
       "      <td>harpsn</td>\n",
       "      <td>6.667775</td>\n",
       "      <td>0.014731</td>\n",
       "      <td>-415949.760210</td>\n",
       "      <td>623.857078</td>\n",
       "      <td>-41.633333</td>\n",
       "      <td>0.174129</td>\n",
       "      <td>0.105292</td>\n",
       "    </tr>\n",
       "  </tbody>\n",
       "</table>\n",
       "</div>"
      ],
      "text/plain": [
       "                       file          time        rv   e_rv     exptime  \\\n",
       "0  DS1.001_spec_expres.fits  59332.189797  0.457618  0.175  171.328003   \n",
       "1  DS1.002_spec_expres.fits  59332.197387  2.909618  0.175  172.710999   \n",
       "2  DS1.003_spec_expres.fits  59332.200011  1.734618  0.175  170.763992   \n",
       "3  DS1.004_spec_harpsn.fits  59332.836022 -1.370231  0.162  300.000000   \n",
       "4  DS1.005_spec_harpsn.fits  59332.840022 -2.074231  0.160  300.000000   \n",
       "\n",
       "    airmass           berv    inst      fwhm    e_fwhm       contrast  \\\n",
       "0  1.043292 -873470.802871  expres  6.575316  0.016461 -331658.144491   \n",
       "1  1.036903 -890201.347972  expres  6.579385  0.016852 -331664.020024   \n",
       "2  1.035140 -896013.033993  expres  6.578262  0.016516 -331734.120654   \n",
       "3  1.320948      -0.051096  harpsn  6.669695  0.014380 -416001.378021   \n",
       "4  1.298025      -0.057561  harpsn  6.667775  0.014731 -415949.760210   \n",
       "\n",
       "   e_contrast        bis        ha      sval  \n",
       "0  566.714052 -62.150000  0.171580  0.101278  \n",
       "1  579.700435 -65.383333  0.171918  0.098143  \n",
       "2  568.400481 -65.733333  0.172180  0.099741  \n",
       "3  608.952395 -41.766667  0.174735  0.099259  \n",
       "4  623.857078 -41.633333  0.174129  0.105292  "
      ]
     },
     "execution_count": 7,
     "metadata": {},
     "output_type": "execute_result"
    }
   ],
   "source": [
    "df = pd.read_csv(example_file)\n",
    "renamed_df = df.rename(columns=col_dict)\n",
    "renamed_df.head()"
   ]
  },
  {
   "cell_type": "markdown",
   "id": "80638db2-934b-46ca-afdd-19080dea7b1a",
   "metadata": {
    "tags": []
   },
   "source": [
    "## Read Into Dictionary\n",
    "If you don't like using `pandas` objects, I recommend using `pandas` to convert into a dictionary of lists.  The only annoying thing with this option is that each time series will be turned into a `list`, not a numpy array, and therefore will be missing some functionality.\n",
    "\n",
    "Because of the structure of the CSV file and the mix of data types, it is pretty non-trivial to read the file in using `numpy` alone."
   ]
  },
  {
   "cell_type": "code",
   "execution_count": 8,
   "id": "f10fdc85-b8e8-4ad0-8c58-2502d06889b8",
   "metadata": {},
   "outputs": [],
   "source": [
    "df = pd.read_csv(example_file)\n",
    "data_dict = df.to_dict('list')"
   ]
  },
  {
   "cell_type": "code",
   "execution_count": 9,
   "id": "dcde426d-73ba-416f-a632-58a99df23f8e",
   "metadata": {},
   "outputs": [
    {
     "data": {
      "text/plain": [
       "<ErrorbarContainer object of 3 artists>"
      ]
     },
     "execution_count": 9,
     "metadata": {},
     "output_type": "execute_result"
    },
    {
     "data": {
      "image/png": "[encoded data removed]",
      "text/plain": [
       "<Figure size 1200x400 with 1 Axes>"
      ]
     },
     "metadata": {},
     "output_type": "display_data"
    }
   ],
   "source": [
    "plt.figure(figsize=(12,4))\n",
    "plt.errorbar(df['Time [eMJD]'],df['RV [m/s]'],yerr=df['RV Err. [m/s]'],\n",
    "             linestyle='None',marker='o',color='k')"
   ]
  },
  {
   "cell_type": "code",
   "execution_count": null,
   "id": "6d37b22c-0453-47cf-a55e-5383f5bda9f9",
   "metadata": {},
   "outputs": [],
   "source": []
  }
 ],
 "metadata": {
  "kernelspec": {
   "display_name": "Python 3 (ipykernel)",
   "language": "python",
   "name": "python3"
  },
  "language_info": {
   "codemirror_mode": {
    "name": "ipython",
    "version": 3
   },
   "file_extension": ".py",
   "mimetype": "text/x-python",
   "name": "python",
   "nbconvert_exporter": "python",
   "pygments_lexer": "ipython3",
   "version": "3.12.2"
  }
 },
 "nbformat": 4,
 "nbformat_minor": 5
}
